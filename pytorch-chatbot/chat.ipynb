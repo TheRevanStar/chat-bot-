{
 "cells": [
  {
   "cell_type": "code",
   "execution_count": 22,
   "id": "a2650697",
   "metadata": {},
   "outputs": [
    {
     "name": "stderr",
     "output_type": "stream",
     "text": [
      "[nltk_data] Downloading package punkt to\n",
      "[nltk_data]     C:\\Users\\ASUS\\AppData\\Roaming\\nltk_data...\n",
      "[nltk_data]   Package punkt is already up-to-date!\n"
     ]
    },
    {
     "data": {
      "text/plain": [
       "True"
      ]
     },
     "execution_count": 22,
     "metadata": {},
     "output_type": "execute_result"
    }
   ],
   "source": [
    "import nltk\n",
    "nltk.download('punkt')\n",
    "\n",
    "\n"
   ]
  },
  {
   "cell_type": "code",
   "execution_count": 1,
   "id": "b000820f",
   "metadata": {},
   "outputs": [
    {
     "name": "stdout",
     "output_type": "stream",
     "text": [
      "76 patterns\n",
      "15 tags: ['astronomy_help', 'chemistry_help', 'computer_science', 'cybersecurity', 'emotional_intelligence', 'goodbye', 'greeting', 'logging_help', 'math_help', 'research_methods', 'science_explanation', 'science_formula', 'science_model', 'space_exploration', 'thanks']\n",
      "152 unique stemmed words: [\"'s\", 'a', 'about', 'acceler', 'against', 'algorithm', 'an', 'analysi', 'anyon', 'are', 'area', 'avogadro', 'balanc', 'bang', 'best', 'big', 'black', 'bond', 'bye', 'calcul', 'can', 'chemic', 'circl', 'classif', 'colon', 'compon', 'conserv', 'coval', 'creat', 'current', 'cyber', 'cybersecur', 'data', 'day', 'deriv', 'design', 'develop', 'do', 'electr', 'emot', 'energi', 'entangl', 'entropi', 'eq', 'equat', 'error', 'euler', 'exoplanet', 'experi', 'explain', 'explor', 'file', 'find', 'first', 'for', 'forc', 'forest', 'formula', 'give', 'good', 'goodby', 'gravit', 'happen', 'hello', 'help', 'hey', 'hi', 'hole', 'how', 'hypothesi', 'i', 'imag', 'import', 'in', 'integr', 'intellig', 'interact', 'intern', 'is', 'kinet', 'lagrang', 'later', 'law', 'learn', 'log', 'lot', 'machin', 'mar', 'mass', 'me', 'messag', 'method', 'model', 'moon', 'network', 'neural', 'newton', 'number', 'of', 'ohm', 'on', 'password', 'peer', 'period', 'person', 'phish', 'practic', 'problem', 'protect', 'pythagorean', 'python', 'quadrat', 'qualit', 'quantum', 'random', 'recurs', 'regress', 'rel', 'research', 'review', 'save', 'scientif', 'second', 'see', 'solv', 'space', 'station', 'strong', 'structur', 'suggest', 'suitabl', 'support', 'tabl', 'tell', 'text', 'thank', 'that', 'the', 'theorem', 'theori', 'there', 'threat', 'to', 'user', 'vector', 'wa', 'what', 'whi', 'which', 'who', 'write', 'you']\n",
      "152 15\n",
      "Epoch [100/1000], Loss: 0.5653\n",
      "Epoch [200/1000], Loss: 0.0423\n",
      "Epoch [300/1000], Loss: 0.0095\n",
      "Epoch [400/1000], Loss: 0.0017\n",
      "Epoch [500/1000], Loss: 0.0071\n",
      "Epoch [600/1000], Loss: 0.0010\n",
      "Epoch [700/1000], Loss: 0.0010\n",
      "Epoch [800/1000], Loss: 0.0002\n",
      "Epoch [900/1000], Loss: 0.0003\n",
      "Epoch [1000/1000], Loss: 0.0001\n",
      "final loss: 0.0001\n",
      "training complete. file saved to data.pth\n"
     ]
    }
   ],
   "source": [
    "%run train.py\n"
   ]
  },
  {
   "cell_type": "code",
   "execution_count": null,
   "id": "f2aab0a5",
   "metadata": {},
   "outputs": [
    {
     "name": "stdout",
     "output_type": "stream",
     "text": [
      "Logging initialized. All conversations will be saved to chatbot.log\n",
      "Let's chat! (type 'quit' to exit) - Bot: Sam\n"
     ]
    }
   ],
   "source": [
    "%run chat.py"
   ]
  },
  {
   "cell_type": "markdown",
   "id": "69b37716",
   "metadata": {},
   "source": []
  }
 ],
 "metadata": {
  "kernelspec": {
   "display_name": ".venv (3.9.13)",
   "language": "python",
   "name": "python3"
  },
  "language_info": {
   "codemirror_mode": {
    "name": "ipython",
    "version": 3
   },
   "file_extension": ".py",
   "mimetype": "text/x-python",
   "name": "python",
   "nbconvert_exporter": "python",
   "pygments_lexer": "ipython3",
   "version": "3.9.13"
  }
 },
 "nbformat": 4,
 "nbformat_minor": 5
}
